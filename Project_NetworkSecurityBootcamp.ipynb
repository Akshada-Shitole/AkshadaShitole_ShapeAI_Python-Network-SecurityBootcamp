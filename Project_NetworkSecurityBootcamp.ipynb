{
 "cells": [
  {
   "cell_type": "code",
   "execution_count": 1,
   "metadata": {},
   "outputs": [],
   "source": [
    "# 1. Program to Generate the md5 value of the given string\n",
    "import hashlib"
   ]
  },
  {
   "cell_type": "code",
   "execution_count": 2,
   "metadata": {},
   "outputs": [
    {
     "name": "stdout",
     "output_type": "stream",
     "text": [
      "Enter String::Akshada\n"
     ]
    }
   ],
   "source": [
    "user_input= input(\"Enter String::\")"
   ]
  },
  {
   "cell_type": "code",
   "execution_count": 3,
   "metadata": {},
   "outputs": [],
   "source": [
    "# encoding User input using encode()\n",
    "# then sending to md5()\n",
    "\n",
    "result = hashlib.md5(user_input.encode())"
   ]
  },
  {
   "cell_type": "code",
   "execution_count": 4,
   "metadata": {},
   "outputs": [
    {
     "name": "stdout",
     "output_type": "stream",
     "text": [
      "<md5 HASH object @ 0x000001AA505F0530>\n"
     ]
    }
   ],
   "source": [
    "print(result)"
   ]
  },
  {
   "cell_type": "code",
   "execution_count": 5,
   "metadata": {},
   "outputs": [
    {
     "name": "stdout",
     "output_type": "stream",
     "text": [
      "75d5bedbaae31aab79c5469732f2592b\n"
     ]
    }
   ],
   "source": [
    "# Print the equivalent hexadecimal value of result we use hexdigest()\n",
    "print(result.hexdigest())"
   ]
  },
  {
   "cell_type": "code",
   "execution_count": 8,
   "metadata": {},
   "outputs": [
    {
     "name": "stdout",
     "output_type": "stream",
     "text": [
      "Hash Value SHA-256: 4f14f7accc962b109ea4871e9bd8803bb85c6c15632e1b3d7ca9274a8538f1c4\n",
      "Hash Value SHA-512: 26970c9b9408cea8442354949a8d130c2c2c07d629afebd7475c220d1af63db7e884d10422663f983b6f01357a1d3e624878215fd9ae7d8e2c1594bbe8452150\n"
     ]
    }
   ],
   "source": [
    "# 2. Program to generate hashes using hashlib.\n",
    "\n",
    "# hash with SHA-2 (SHA-256 & SHA-512)\n",
    "\n",
    "user1_input=\"Akshada\".encode()\n",
    "\n",
    "print(\"Hash Value SHA-256:\", hashlib.sha256(user1_input).hexdigest())\n",
    "\n",
    "print(\"Hash Value SHA-512:\", hashlib.sha512(user1_input).hexdigest())"
   ]
  },
  {
   "cell_type": "code",
   "execution_count": 10,
   "metadata": {},
   "outputs": [
    {
     "name": "stdout",
     "output_type": "stream",
     "text": [
      "Hash Value SHA-3-256: d687fa28ceeab1248f31c926e7b09bd4e4a58cda3eeb0bbd5ba9ad7e135c2fd5\n",
      "Hash Value SHA-3-512: 632d7cce1be5edb00bc8003b51026d229bd7cf06a0b9c3f8c076aa2bd495d120a307d65d23790321d225b2a82c9e0995a31541fbc70b7e97c96ddc7dfb5561f3\n"
     ]
    }
   ],
   "source": [
    "# hash with SHA-3\n",
    "print(\"Hash Value SHA-3-256:\", hashlib.sha3_256(user1_input).hexdigest())\n",
    "\n",
    "print(\"Hash Value SHA-3-512:\", hashlib.sha3_512(user1_input).hexdigest())\n"
   ]
  },
  {
   "cell_type": "code",
   "execution_count": 11,
   "metadata": {},
   "outputs": [
    {
     "name": "stdout",
     "output_type": "stream",
     "text": [
      "Hash Value BLAKE2c: d8f89dd9b6693ffbdf7c95aa12250f6e53eb35916dc3ebc8143838a371eef16a\n",
      "Hash Value BLAKE2b: a0e5b191d4103d272548678c62209cf329b8524e49a031220afaf3ec4f3a8106e04ae3ce720a9a7d91daeb4e43185af22710b40ad95d4192aa4a611f3eef8836\n"
     ]
    }
   ],
   "source": [
    "# hash with BLAKE2\n",
    "\n",
    "# 256-bit BLAKE2 (or BLAKE2s)\n",
    "\n",
    "print(\"Hash Value BLAKE2c:\", hashlib.blake2s(user1_input).hexdigest())\n",
    "\n",
    "# 512-bit BLAKE2 (or BLAKE2b)\n",
    "\n",
    "print(\"Hash Value BLAKE2b:\", hashlib.blake2b(user1_input).hexdigest())"
   ]
  },
  {
   "cell_type": "code",
   "execution_count": 16,
   "metadata": {},
   "outputs": [
    {
     "name": "stdout",
     "output_type": "stream",
     "text": [
      "Enter the Password:Akshada\n",
      "\n",
      " Original Password is: Akshada\n",
      "\n",
      " Original Password is: aaaaaAkshadaaaaaa\n",
      "\n",
      " \n",
      " Hash Value SHA-3-512: 808cf271952ffee42d5914421e9312fc48d912bb7d9351b125b9cfb69ab6dea5cb2db21fdc673681ae0de6a640cb0b49c59e66e8275fdb8a2f93cd907d145324\n"
     ]
    }
   ],
   "source": [
    "# 3. Program to Add Salting & Iterations to the data\n",
    "\n",
    "original_password=input(\"Enter the Password:\")\n",
    "\n",
    "salted_password=\"aaaaa\"+original_password+\"aaaaa\"\n",
    "\n",
    "print(\"\\n Original Password is: \"+original_password)\n",
    "\n",
    "print(\"\\n Original Password is: \"+salted_password)\n",
    "\n",
    "# Hashing the salted data\n",
    "\n",
    "Encoded_salted_password=salted_password.encode()\n",
    "\n",
    "print(\"\\n \\n Hash Value SHA-3-512:\", hashlib.sha3_512(Encoded_salted_password).hexdigest())\n"
   ]
  },
  {
   "cell_type": "code",
   "execution_count": null,
   "metadata": {},
   "outputs": [],
   "source": []
  }
 ],
 "metadata": {
  "kernelspec": {
   "display_name": "Python 3",
   "language": "python",
   "name": "python3"
  },
  "language_info": {
   "codemirror_mode": {
    "name": "ipython",
    "version": 3
   },
   "file_extension": ".py",
   "mimetype": "text/x-python",
   "name": "python",
   "nbconvert_exporter": "python",
   "pygments_lexer": "ipython3",
   "version": "3.6.5"
  }
 },
 "nbformat": 4,
 "nbformat_minor": 4
}
